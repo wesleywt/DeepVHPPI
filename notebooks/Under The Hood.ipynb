{
 "cells": [
  {
   "cell_type": "markdown",
   "source": [
    "# Under the Hood of the code\n",
    "In this notebook I will be exploring various issues on how the code was written and improvements I am adding to the code.\n",
    "\n",
    "## 27-04-2022: Saving of the best model breaks when viewing the logs\n"
   ],
   "metadata": {
    "collapsed": false,
    "pycharm": {
     "name": "#%% md\n"
    }
   }
  },
  {
   "cell_type": "code",
   "execution_count": null,
   "metadata": {
    "collapsed": true,
    "pycharm": {
     "name": "#%%\n"
    }
   },
   "outputs": [],
   "source": []
  }
 ],
 "metadata": {
  "kernelspec": {
   "display_name": "Python 3",
   "language": "python",
   "name": "python3"
  },
  "language_info": {
   "codemirror_mode": {
    "name": "ipython",
    "version": 2
   },
   "file_extension": ".py",
   "mimetype": "text/x-python",
   "name": "python",
   "nbconvert_exporter": "python",
   "pygments_lexer": "ipython2",
   "version": "2.7.6"
  }
 },
 "nbformat": 4,
 "nbformat_minor": 0
}