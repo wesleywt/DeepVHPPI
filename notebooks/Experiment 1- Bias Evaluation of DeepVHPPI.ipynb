{
 "cells": [
  {
   "cell_type": "markdown",
   "source": [
    "# Experiment 1: Bias detection in DeepVHPPI\n",
    "\n",
    "Goal: Train DeepVHPPI on H1N1 and E. bola datasets and evaluate their performance according to the Article 1\n",
    "\n",
    "Train using the following data splits:\n",
    "\n",
    "\t1. 50% positive and negative splits\n",
    "\t2. 10% positive and negative splits\n",
    "\t3. 0.3% positive and negative splits\n",
    "\t4. 50% positive and negative splits using the hold out method\n",
    "\t5. 10% positive and negative splits using the hold out method\n",
    "    6. 0.3% positive and negative splits using the hold out method\n",
    "\n",
    "Measure performance using\n",
    "1. AUROC\n",
    "2. Precision\n",
    "3. Recall\n",
    "\n",
    "Expected Results: The models will perform poorly if positive instances in the data are rare\n",
    "\n",
    "Expected Explanation: The models are counting the frequency of the protein occurring and assigning labels according to this frequency.\n",
    "\n",
    "## Description of the Zhou dataset H1N1 and E. bola datasets\n",
    "\n",
    "\n"
   ],
   "metadata": {
    "collapsed": false,
    "pycharm": {
     "name": "#%% md\n"
    }
   }
  },
  {
   "cell_type": "code",
   "execution_count": null,
   "outputs": [],
   "source": [],
   "metadata": {
    "collapsed": false,
    "pycharm": {
     "name": "#%%\n"
    }
   }
  }
 ],
 "metadata": {
  "kernelspec": {
   "display_name": "Python 3",
   "language": "python",
   "name": "python3"
  },
  "language_info": {
   "codemirror_mode": {
    "name": "ipython",
    "version": 2
   },
   "file_extension": ".py",
   "mimetype": "text/x-python",
   "name": "python",
   "nbconvert_exporter": "python",
   "pygments_lexer": "ipython2",
   "version": "2.7.6"
  }
 },
 "nbformat": 4,
 "nbformat_minor": 0
}