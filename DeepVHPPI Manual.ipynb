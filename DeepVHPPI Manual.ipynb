{
 "cells": [
  {
   "cell_type": "markdown",
   "metadata": {
    "collapsed": true,
    "pycharm": {
     "name": "#%% md\n"
    }
   },
   "source": [
    "# DeepVHPPI manual\n",
    "This notebook covers the DeepVHPPI programming layout and how to train a model."
   ]
  },
  {
   "cell_type": "markdown",
   "source": [
    "## Datasets for TB training\n",
    "### HPIDB dataset\n",
    "This dataset was obtained from [HPIDB](https://hpidb.igbb.msstate.edu/) in 2022, a host-pathogen database containing experimental and predicted interactions between various hosts and pathogens. 10704 host-bacterial pathogen interactions were downloaded by clicking [The Pie Chart](https://hpidb.igbb.msstate.edu/hpi30_statistics.html), bacteria section.\n",
    "\n",
    "The HPIDB dataset serves as the training dataset for PPI prediction training using the BERT model.\n",
    "\n",
    "#### Negative HPIDB dataset\n",
    "The negative interaction dataset was created by downloading a random sequence from Uniprot and pairing it with a bacterial pathogen sequence. This created a negative human-pathogen interaction dataset that can be used for training. To ensure that no human sequence in the positive dataset occurred, we used CD-HIT-2D to compare the sequence similarity of the sequences in both datasets.\n",
    "\n",
    "1. A negative set of sequences of len == length of positive set of human sequences.\n",
    "2. CD-HIT finds examples in the negative dataset that is greater than 80% similarity in the positive dataset.\n",
    "3. We remove the examples and replace them with new examples (create a new list) and compare this list again to the positive dataset.\n",
    "4. Finally, we will end with a positive and negative dataset that can be used for training."
   ],
   "metadata": {
    "collapsed": false,
    "pycharm": {
     "name": "#%% md\n"
    }
   }
  },
  {
   "cell_type": "markdown",
   "source": [
    "## Zhou PPI code\n",
    "These commands are used to initiate the training for\n",
    "\n",
    "### Linux devices\n",
    "```\n",
    "CUDA_VISIBLE_DEVICES=0,1,2,3 python main.py --data_root ./data/ -tr zhou/h1n1/human/train.json  -va zhou/h1n1/human/test.json -v vocab.data -s 1024 -hs 512 -l 12  -o results --lr 0.00001 --dropout 0.1 --epochs 20000 --attn_heads 8 --activation 'gelu' --task ppi --emb_type 'conv' --overwrite  --batch_size 8 --grad_ac_steps 2 --name ''\n",
    "\n",
    "```\n",
    "\n",
    "### Windows\n",
    "```\n",
    "python main.py --data_root ./data/ -tr zhou/h1n1/human/train.json  -va zhou/h1n1/human/test.json -v vocab.data -s 1024 -hs 512 -l 12  -o results --lr 0.00001 --dropout 0.1 --epochs 20000 --attn_heads 8 --activation 'gelu' --task ppi --emb_type 'conv' --overwrite  --batch_size 8 --grad_ac_steps 2 --name ''\n",
    "\n",
    "```"
   ],
   "metadata": {
    "collapsed": false,
    "pycharm": {
     "name": "#%% md\n"
    }
   }
  }
 ],
 "metadata": {
  "kernelspec": {
   "display_name": "Python 3",
   "language": "python",
   "name": "python3"
  },
  "language_info": {
   "codemirror_mode": {
    "name": "ipython",
    "version": 2
   },
   "file_extension": ".py",
   "mimetype": "text/x-python",
   "name": "python",
   "nbconvert_exporter": "python",
   "pygments_lexer": "ipython2",
   "version": "2.7.6"
  }
 },
 "nbformat": 4,
 "nbformat_minor": 0
}